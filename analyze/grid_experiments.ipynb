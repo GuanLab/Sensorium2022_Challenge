{
 "cells": [
  {
   "cell_type": "code",
   "execution_count": null,
   "metadata": {},
   "outputs": [],
   "source": [
    "import numpy as np\n",
    "import matplotlib.pyplot as plt\n",
    "import matplotlib.patches as patches\n",
    "import seaborn as sns\n",
    "import scipy\n",
    "import pickle\n",
    "from scipy.interpolate import griddata\n",
    "import pandas as pd\n",
    "import ast\n",
    "from PIL import Image\n",
    "from itertools import product, combinations\n",
    "from neuralpredictors.measures.np_functions import corr\n",
    "from scipy.interpolate import make_interp_spline, BSpline\n",
    "import warnings\n",
    "warnings.filterwarnings(\"ignore\")\n",
    "\n",
    "import utils"
   ]
  },
  {
   "cell_type": "code",
   "execution_count": null,
   "metadata": {},
   "outputs": [],
   "source": [
    "def get_distance(x, y):\n",
    "    return np.sqrt(np.sum((x - y) ** 2))"
   ]
  },
  {
   "cell_type": "code",
   "execution_count": null,
   "metadata": {},
   "outputs": [],
   "source": [
    "datasets = [\"pretrain_21067-10-18\", \"pretrain_23343-5-17\", \"pretrain_22846-10-16\",\n",
    "            \"pretrain_23656-14-22\", \"pretrain_23964-4-22\"]\n",
    "data_keys = [key.split(\"_\")[1] for key in datasets]"
   ]
  },
  {
   "cell_type": "code",
   "execution_count": null,
   "metadata": {},
   "outputs": [],
   "source": [
    "cell_motor_coord = {}\n",
    "for dataset in datasets:\n",
    "    data_key = dataset.split(\"_\")[1]\n",
    "    cell_motor_coord[data_key] = np.load(f\"../dataset/{dataset}/meta/neurons/cell_motor_coordinates.npy\")"
   ]
  },
  {
   "cell_type": "code",
   "execution_count": null,
   "metadata": {},
   "outputs": [],
   "source": [
    "fig = plt.figure(figsize=(7, 6))\n",
    "ax = fig.add_subplot(projection='3d')\n",
    "\n",
    "data = cell_motor_coord[data_key]\n",
    "data = data - data.mean(axis=0, keepdims=True)\n",
    "data = data / np.abs(data).max()  \n",
    "ax.scatter(data[:, 0], \n",
    "            data[:, 1],\n",
    "            data[:, 2],\n",
    "            c='k', edgecolor=\"w\", alpha=.75, \n",
    "            s=30,)\n",
    "ax.set_zlim(-0.2, 0.2)\n",
    "ax.set_xticks([-1, -0.5, 0, 0.5, 1])\n",
    "ax.set_yticks([-1, -0.5, 0, 0.5, 1])\n",
    "ax.set_zticks([-0.1, 0, 0.1])\n",
    "ax.set_zlabel(\"\\nZ-axis\", fontsize=20)\n",
    "ax.tick_params(labelsize=16)\n",
    "sns.despine(trim=True)\n",
    "plt.title(\"Anatomical Positions of neurons within V1\", fontsize=20)\n",
    "plt.xlabel('\\nX-axis', fontsize=20)\n",
    "plt.ylabel('\\nY-axis', fontsize=20)\n",
    "plt.tight_layout()\n",
    "\n",
    "# plt.savefig(\"Figure 5/neuron_pos.png\", dpi=300)"
   ]
  },
  {
   "cell_type": "code",
   "execution_count": null,
   "metadata": {},
   "outputs": [],
   "source": [
    "# np.unique(cell_motor_coord[\"22846-10-16\"][:, 2])"
   ]
  },
  {
   "cell_type": "code",
   "execution_count": null,
   "metadata": {},
   "outputs": [],
   "source": [
    "# about 5 minutes running\n",
    "\n",
    "def custom_agg(series):\n",
    "    array = np.array([ast.literal_eval(x) for x in series])\n",
    "    array = np.mean(array, axis=0)\n",
    "    return array.tolist()\n",
    "\n",
    "preds_gt = {}\n",
    "for data_key in data_keys:\n",
    "    pred = pd.read_csv(f\"../sensorium/preds_gt/{data_key}/submission_file_live_test.csv\")\n",
    "    gt = pd.read_csv(f\"./sensorium/preds_gt/{data_key}/ground_truth_file_test.csv\")\n",
    "    pred = pd.merge(pred, gt, how=\"left\", on=[\"trial_indices\", \"image_ids\", \"neuron_ids\"])\n",
    "    preds_gt[data_key] = pred\n",
    "    \n",
    "for data_key in data_keys:\n",
    "    preds_gt[data_key] = preds_gt[data_key].groupby(\"image_ids\")\\\n",
    "        .agg({\"prediction\": custom_agg, \n",
    "              \"responses\": custom_agg,\n",
    "              \"neuron_ids\": custom_agg})\n",
    "    preds_gt[data_key].reset_index(inplace=True)\n",
    "    \n",
    "    mean_responses = np.vstack(preds_gt[data_key].responses)\n",
    "    mean_predictions = np.vstack(preds_gt[data_key].prediction)\n",
    "    correlation = corr(mean_responses, mean_predictions, axis=1)\n",
    "    preds_gt[data_key][\"correlation\"] = correlation"
   ]
  },
  {
   "cell_type": "code",
   "execution_count": null,
   "metadata": {},
   "outputs": [],
   "source": [
    "neuron_pos_preds = {}\n",
    "for data_key in data_keys:\n",
    "    data = cell_motor_coord[data_key]\n",
    "    data = data - data.mean(axis=0, keepdims=True)\n",
    "    data = data / np.abs(data).max()\n",
    "    distances = [get_distance(cur_pos, data[0]) for cur_pos in data]\n",
    "    \n",
    "    preds = np.array([x for x in preds_gt[data_key].prediction]).T\n",
    "    image_ids = preds_gt[data_key].image_ids.tolist()\n",
    "    preds_df = pd.DataFrame(np.concatenate([data, preds], axis=1), columns=[\"X\", \"Y\", \"Z\"]+image_ids)\n",
    "    preds_df[\"dataset\"] = data_key\n",
    "    preds_df[\"distance\"] = distances\n",
    "    neuron_pos_preds[data_key] = preds_df.sort_values(by=\"distance\")\n",
    "    \n",
    "neuron_pos_gts = {}\n",
    "for data_key in data_keys:\n",
    "    data = cell_motor_coord[data_key]\n",
    "    data = data - data.mean(axis=0, keepdims=True)\n",
    "    data = data / np.abs(data).max()\n",
    "    distances = [get_distance(cur_pos, data[0]) for cur_pos in data]\n",
    "    \n",
    "    gts = np.array([x for x in preds_gt[data_key].responses]).T\n",
    "    image_ids = preds_gt[data_key].image_ids.tolist()\n",
    "    gts_df = pd.DataFrame(np.concatenate([data, gts], axis=1), columns=[\"X\", \"Y\", \"Z\"]+image_ids)\n",
    "    gts_df[\"dataset\"] = data_key\n",
    "    gts_df[\"distance\"] = distances\n",
    "    neuron_pos_gts[data_key] = gts_df.sort_values(by=\"distance\")"
   ]
  },
  {
   "cell_type": "code",
   "execution_count": null,
   "metadata": {},
   "outputs": [],
   "source": [
    "merged_pos_preds = neuron_pos_preds[data_keys[0]]\n",
    "for data_key in data_keys[1:]:\n",
    "    merged_pos_preds = pd.concat([merged_pos_preds, neuron_pos_preds[data_key]])\n",
    "\n",
    "merged_pos_gts = neuron_pos_gts[data_keys[0]]\n",
    "for data_key in data_keys[1:]:\n",
    "    merged_pos_gts = pd.concat([merged_pos_gts, neuron_pos_gts[data_key]])"
   ]
  },
  {
   "cell_type": "code",
   "execution_count": null,
   "metadata": {},
   "outputs": [],
   "source": [
    "X_bins = pd.cut(merged_pos_preds.X, bins=25).apply(lambda x: (x.left + x.right) / 2)\n",
    "Y_bins = pd.cut(merged_pos_preds.Y, bins=25).apply(lambda x: (x.left + x.right) / 2)\n",
    "Z_bins = pd.cut(merged_pos_preds.Z, bins=10).apply(lambda x: (x.left + x.right) / 2)\n",
    "\n",
    "target_coords = np.array(list(product(X_bins.unique().tolist(), Y_bins.unique().tolist(), Z_bins.unique().tolist())))\n",
    "grids25_keepNaN = utils.get_grids(merged_pos_preds, target_coords, data_keys, image_ids)\n",
    "grids25_keepNaN_gt = utils.get_grids(merged_pos_gts, target_coords, data_keys, image_ids)"
   ]
  },
  {
   "cell_type": "code",
   "execution_count": null,
   "metadata": {},
   "outputs": [],
   "source": [
    "# with open(\"grids_interpolation.pkl\", \"wb\") as f:\n",
    "#     pickle.dump(grids25_keepNaN, f)\n",
    "# with open(\"grids_interpolation_gt.pkl\", \"wb\") as f:\n",
    "#     pickle.dump(grids25_keepNaN_gt, f)\n",
    "\n",
    "# for quick generation\n",
    "grids25_keepNaN = pickle.load(open(\"grids_interpolation.pkl\", \"rb\"))\n",
    "grids25_keepNaN_gt = pickle.load(open(\"grids_interpolation_gt.pkl\", \"rb\"))"
   ]
  },
  {
   "attachments": {},
   "cell_type": "markdown",
   "metadata": {},
   "source": [
    "### Neuron correlations on predictions"
   ]
  },
  {
   "cell_type": "code",
   "execution_count": null,
   "metadata": {},
   "outputs": [],
   "source": [
    "## neuron correlation\n",
    "# correlations of neurons in the similar location when predicting the 100 images\n",
    "preds = {}\n",
    "for data_key in data_keys:\n",
    "    array = grids25_keepNaN[data_key][image_ids[0]]\n",
    "    \n",
    "    for image_id in image_ids[1:]:\n",
    "        array = np.concatenate([array, grids25_keepNaN[data_key][image_id][:, 3:4]], axis=1)\n",
    "    \n",
    "    array[:, :3] = np.round(array[:, :3], 4)\n",
    "    preds[data_key] = array"
   ]
  },
  {
   "cell_type": "code",
   "execution_count": null,
   "metadata": {},
   "outputs": [],
   "source": [
    "corr_matrix = {}\n",
    "for keys_pair in combinations(data_keys, 2):\n",
    "    test1 = preds[keys_pair[0]]\n",
    "    test1 = test1[~np.isnan(test1).any(axis=1)]\n",
    "    \n",
    "    coords = test1[:, :3]\n",
    "    distances = [get_distance(coord, coords[0]) for coord in coords]\n",
    "    test1 = pd.DataFrame(test1[np.argsort(distances)])\n",
    "\n",
    "    test2 = preds[keys_pair[1]]\n",
    "    test2 = test2[~np.isnan(test2).any(axis=1)]\n",
    "    \n",
    "    coords = test2[:, :3]\n",
    "    distances = [get_distance(coord, coords[0]) for coord in coords]\n",
    "    test2 = pd.DataFrame(test2[np.argsort(distances)])\n",
    "\n",
    "    test = pd.merge(test1, test2, how=\"inner\", on=[0, 1, 2]).iloc[:, 3:]\n",
    "    n = test.shape[0]\n",
    "    corr_matrix[keys_pair] = np.corrcoef(test.iloc[:, :100], test.iloc[:, 100:])[n:, :n]\n"
   ]
  },
  {
   "cell_type": "code",
   "execution_count": null,
   "metadata": {},
   "outputs": [],
   "source": [
    "f, ax = utils.plot_average_neuron_corr_distance(corr_matrix, figsize=(7, 5), remove=300,\n",
    "                                          xlabel=\"Neuron distances (in grids)\",\n",
    "                                          ylabel=\"Correlation between \\nneuron predictions\",\n",
    "                                          title=\"Compare across brains\")\n",
    "f.tight_layout()\n",
    "# f.savefig(\"./Figure 5/grid_corrs_summary_crossbrain_avg.png\", dpi=300)"
   ]
  },
  {
   "cell_type": "code",
   "execution_count": null,
   "metadata": {},
   "outputs": [],
   "source": [
    "f, ax = utils.plot_neuron_corr_distance(corr_matrix, figsize=(10, 14), remove=300, nrow=5, ncol=2,\n",
    "                                  xlabel=\"Neuron distances (in grids)\", \n",
    "                                  ylabel=\"Correlation between neuron predictions\",\n",
    "                                  ylim=(-0.05, 0.2))\n",
    "f.tight_layout()\n",
    "# f.savefig(\"./Figure 5/grid_corrs_summary_crossbrain.png\", dpi=300)"
   ]
  },
  {
   "cell_type": "code",
   "execution_count": null,
   "metadata": {},
   "outputs": [],
   "source": [
    "corr_matrix = {}\n",
    "for data_key in data_keys:\n",
    "    test = preds[data_key]\n",
    "    test = test[~np.isnan(test).any(axis=1)]\n",
    "    \n",
    "    # sort distance\n",
    "    coords = test[:, :3]\n",
    "    distances = [get_distance(coord, coords[0]) for coord in coords]\n",
    "    test = test[np.argsort(distances), 3:]\n",
    "    \n",
    "    corr_matrix[data_key] = np.corrcoef(test)"
   ]
  },
  {
   "cell_type": "code",
   "execution_count": null,
   "metadata": {},
   "outputs": [],
   "source": [
    "f, ax = utils.plot_average_neuron_corr_distance(corr_matrix, figsize=(7, 5), remove=300,\n",
    "                                                xlabel=\"Neuron distances (in grids)\",\n",
    "                                                ylabel=\"Correlation between \\nneuron predictions\",\n",
    "                                                title=\"Compare within brains\", \n",
    "                                                ylim=(-0.05, 0.4))\n",
    "f.tight_layout()\n",
    "# f.savefig(\"./Figure 5/grid_corrs_summary_avg.png\", dpi=300)"
   ]
  },
  {
   "cell_type": "code",
   "execution_count": null,
   "metadata": {},
   "outputs": [],
   "source": [
    "f, ax = utils.plot_neuron_corr_distance(corr_matrix, figsize=(15, 6), remove=300,\n",
    "                                        nrow=2, ncol=3, xlabel=\"Neuron distances (in grids)\",\n",
    "                                        ylabel=\"Correlation between \\nneuron predictions\",\n",
    "                                        ylim=(-0.05, 0.42))\n",
    "\n",
    "ax[1][2].axis(\"off\")\n",
    "f.tight_layout()\n",
    "\n",
    "# f.savefig(\"Figure 5/grid_corrs_summary.png\", dpi=300, transparent=True)"
   ]
  },
  {
   "cell_type": "code",
   "execution_count": null,
   "metadata": {},
   "outputs": [],
   "source": [
    "all_x = np.round(np.unique(preds[\"21067-10-18\"][:, 0]), 4)\n",
    "all_y = np.round(np.unique(preds[\"21067-10-18\"][:, 1]), 4)\n",
    "all_z = np.round(np.unique(preds[\"21067-10-18\"][:, 2]), 4)"
   ]
  },
  {
   "cell_type": "code",
   "execution_count": null,
   "metadata": {},
   "outputs": [],
   "source": [
    "# cmap = sns.diverging_palette(230, 20, as_cmap=True)\n",
    "fig, axs = plt.subplots(ncols=2, figsize=(6, 4))\n",
    "\n",
    "sns.heatmap(utils.get_corrs_alongZ(preds, data_keys, -0.48, 0.08), vmax=0.5, center=0, square=True,\n",
    "            cbar=False, ax=axs[0])\n",
    "axs[0].add_patch(patches.Rectangle((6, 13), 1, 1, lw=2, edgecolor='blue', fill=False))\n",
    "axs[0].set(xticklabels=[], yticklabels=[])\n",
    "axs[0].tick_params(bottom=False, left=False)\n",
    "axs[0].axis(\"off\")\n",
    "\n",
    "sns.heatmap(utils.get_corrs_alongZ(preds, data_keys, 0.8, 0.64), vmax=0.5, center=0, square=True,\n",
    "            cbar=False, ax=axs[1])\n",
    "axs[1].add_patch(patches.Rectangle((22, 20), 1, 1, lw=2, edgecolor='blue', fill=False))\n",
    "axs[1].set(xticklabels=[], yticklabels=[])\n",
    "axs[1].tick_params(bottom=False, left=False)\n",
    "axs[1].set_ylabel(None)\n",
    "axs[1].axis(\"off\")\n",
    "\n",
    "fig.tight_layout()\n",
    "fig.subplots_adjust(wspace=0.05, hspace=0)\n",
    "\n",
    "# fig.savefig(\"Figure 5/grid_corrs_XY.png\", dpi=300, transparent=True)\n",
    "\n",
    "cbar_fig, cbar_ax = plt.subplots(1, 1, figsize=(0.1, 6))\n",
    "cbar_fig.colorbar(axs[1].collections[0], cax=cbar_ax)\n",
    "cbar_fig.tight_layout()\n",
    "# cbar_fig.savefig(\"Figure 5/colorbar.png\", dpi=300)"
   ]
  },
  {
   "cell_type": "code",
   "execution_count": null,
   "metadata": {},
   "outputs": [],
   "source": [
    "fig, axs = plt.subplots(ncols=2, figsize=(6, 4))\n",
    "\n",
    "sns.heatmap(utils.get_corrs_alongZ_cross_brain(preds, data_keys, -0.48, 0.08), vmax=0.3, center=0, square=True,\n",
    "            cbar=False, ax=axs[0])\n",
    "axs[0].add_patch(patches.Rectangle((6, 13), 1, 1, lw=2, edgecolor='blue', fill=False))\n",
    "axs[0].set(xticklabels=[], yticklabels=[])\n",
    "axs[0].tick_params(bottom=False, left=False)\n",
    "axs[0].axis(\"off\")\n",
    "\n",
    "sns.heatmap(utils.get_corrs_alongZ_cross_brain(preds, data_keys, 0.8, 0.64), vmax=0.3, center=0, square=True,\n",
    "            cbar=False, ax=axs[1])\n",
    "axs[1].add_patch(patches.Rectangle((22, 20), 1, 1, lw=2, edgecolor='blue', fill=False))\n",
    "axs[1].set(xticklabels=[], yticklabels=[])\n",
    "axs[1].tick_params(bottom=False, left=False)\n",
    "axs[1].set_ylabel(None)\n",
    "axs[1].axis(\"off\")\n",
    "\n",
    "fig.tight_layout()\n",
    "fig.subplots_adjust(wspace=0.05, hspace=0)\n",
    "\n",
    "# fig.savefig(\"Figure 5/grid_corrs_XY_crossbrain.png\", dpi=300, transparent=True)\n",
    "\n",
    "cbar_fig, cbar_ax = plt.subplots(1, 1, figsize=(0.1, 6))\n",
    "cbar_fig.colorbar(axs[1].collections[0], cax=cbar_ax)\n",
    "cbar_fig.tight_layout()\n",
    "# cbar_fig.savefig(\"Figure 5/colorbar_crossbrain.png\", dpi=300)"
   ]
  },
  {
   "cell_type": "code",
   "execution_count": null,
   "metadata": {},
   "outputs": [],
   "source": [
    "fig, axs = plt.subplots(ncols=2, figsize=(6, 4))\n",
    "\n",
    "sns.heatmap(utils.get_corrs_alongX(preds, data_keys, -0.48, -0.0514), vmax=0.5, center=0, square=True,\n",
    "            cbar=False, ax=axs[0])\n",
    "axs[0].add_patch(patches.Rectangle((6, 1), 1, 1, lw=2, edgecolor='blue', fill=False))\n",
    "axs[0].axis(\"off\")\n",
    "\n",
    "sns.heatmap(utils.get_corrs_alongX(preds, data_keys, 0.8, 0.0506), vmax=0.5, center=0, square=True,\n",
    "            cbar=False, ax=axs[1])\n",
    "axs[1].add_patch(patches.Rectangle((22, 8), 1, 1, lw=2, edgecolor='blue', fill=False))\n",
    "axs[1].set(xticklabels=[], yticklabels=[])\n",
    "axs[1].axis(\"off\")\n",
    "\n",
    "fig.tight_layout()\n",
    "fig.subplots_adjust(wspace=0.05, hspace=0)\n",
    "# fig.savefig(\"Figure 5/grid_corrs_YZ.png\", dpi=300, transparent=True)"
   ]
  },
  {
   "cell_type": "code",
   "execution_count": null,
   "metadata": {},
   "outputs": [],
   "source": [
    "fig, axs = plt.subplots(ncols=2, figsize=(6, 4))\n",
    "\n",
    "sns.heatmap(utils.get_corrs_alongX_cross_brain(preds, data_keys, -0.48, -0.0514), vmax=0.3, center=0, square=True,\n",
    "            cbar=False, ax=axs[0])\n",
    "axs[0].add_patch(patches.Rectangle((6, 1), 1, 1, lw=2, edgecolor='blue', fill=False))\n",
    "axs[0].axis(\"off\")\n",
    "\n",
    "sns.heatmap(utils.get_corrs_alongX_cross_brain(preds, data_keys, 0.8, 0.0506), vmax=0.3, center=0, square=True,\n",
    "            cbar=False, ax=axs[1])\n",
    "axs[1].add_patch(patches.Rectangle((22, 8), 1, 1, lw=2, edgecolor='blue', fill=False))\n",
    "axs[1].set(xticklabels=[], yticklabels=[])\n",
    "axs[1].axis(\"off\")\n",
    "\n",
    "fig.tight_layout()\n",
    "fig.subplots_adjust(wspace=0.05, hspace=0)\n",
    "# fig.savefig(\"Figure 5/grid_corrs_YZ_crossbrain.png\", dpi=300, transparent=True)"
   ]
  },
  {
   "cell_type": "code",
   "execution_count": null,
   "metadata": {},
   "outputs": [],
   "source": [
    "fig, axs = plt.subplots(ncols=2, figsize=(6, 4))\n",
    "\n",
    "sns.heatmap(utils.get_corrs_alongY(preds, data_keys, -0.72, -0.0514), vmax=0.5, center=0, square=True,\n",
    "            cbar=False, ax=axs[0])\n",
    "axs[0].add_patch(patches.Rectangle((3, 1), 1, 1, lw=2, edgecolor='blue', fill=False))\n",
    "axs[0].axis(\"off\")\n",
    "\n",
    "sns.heatmap(utils.get_corrs_alongY(preds, data_keys, 0.32, 0.0506), vmax=0.5, center=0, square=True,\n",
    "            cbar=False, ax=axs[1])\n",
    "axs[1].add_patch(patches.Rectangle((16, 8), 1, 1, lw=2, edgecolor='blue', fill=False))\n",
    "axs[1].set(xticklabels=[], yticklabels=[])\n",
    "axs[1].axis(\"off\")\n",
    "\n",
    "fig.tight_layout()\n",
    "fig.subplots_adjust(wspace=0.05, hspace=0)\n",
    "# fig.savefig(\"Figure 5/grid_corrs_XZ.png\", dpi=300, transparent=True)"
   ]
  },
  {
   "cell_type": "code",
   "execution_count": null,
   "metadata": {},
   "outputs": [],
   "source": [
    "fig, axs = plt.subplots(ncols=2, figsize=(6, 4))\n",
    "\n",
    "sns.heatmap(utils.get_corrs_alongY_cross_brain(preds, data_keys, -0.72, -0.0514), vmax=0.3, center=0, square=True,\n",
    "            cbar=False, ax=axs[0])\n",
    "axs[0].add_patch(patches.Rectangle((3, 1), 1, 1, lw=2, edgecolor='blue', fill=False))\n",
    "axs[0].axis(\"off\")\n",
    "\n",
    "sns.heatmap(utils.get_corrs_alongY_cross_brain(preds, data_keys, 0.32, 0.0506), vmax=0.3, center=0, square=True,\n",
    "            cbar=False, ax=axs[1])\n",
    "axs[1].add_patch(patches.Rectangle((16, 8), 1, 1, lw=2, edgecolor='blue', fill=False))\n",
    "axs[1].set(xticklabels=[], yticklabels=[])\n",
    "axs[1].axis(\"off\")\n",
    "\n",
    "fig.tight_layout()\n",
    "fig.subplots_adjust(wspace=0.05, hspace=0)\n",
    "# fig.savefig(\"Figure 5/grid_corrs_XZ_crossbrain.png\", dpi=300, transparent=True)"
   ]
  },
  {
   "cell_type": "code",
   "execution_count": null,
   "metadata": {},
   "outputs": [],
   "source": [
    "# may take about 15 minutes for running\n",
    "\n",
    "ratio_z = []\n",
    "ratio_y = []\n",
    "ratio_x = []\n",
    "# np.random.seed(1000)\n",
    "\n",
    "for y in all_y:\n",
    "    for z in all_z:\n",
    "        df = utils.get_corrs_alongX(preds, data_keys, y, z)\n",
    "        change_on_z = (np.abs(df[y] - df.loc[z, y]) / np.abs(df.index - z)).values\n",
    "        ratio_z += change_on_z[~np.isnan(change_on_z)].tolist()\n",
    "        change_on_y = np.abs(df.loc[z] - df.loc[z, y]) / np.abs(df.columns - y)\n",
    "        change_on_y = change_on_y[(change_on_y.index >= (y - 0.16)) & (change_on_y.index <= (y + 0.16))]\n",
    "        ratio_y += change_on_y[~np.isnan(change_on_y)].tolist()\n",
    "        \n",
    "for x in all_x:\n",
    "    for z in all_z:\n",
    "        df = utils.get_corrs_alongY(preds, data_keys, x, z)\n",
    "        change_on_z = (np.abs(df[x] - df.loc[z, x]) / np.abs(df.index - z)).values\n",
    "        ratio_z += change_on_z[~np.isnan(change_on_z)].tolist()\n",
    "        change_on_x = np.abs(df.loc[z] - df.loc[z, x]) / np.abs(df.columns - x)\n",
    "        change_on_x = change_on_x[(change_on_x.index >= (x - 0.16)) & (change_on_x.index <= (x + 0.16))]\n",
    "        ratio_x += change_on_x[~np.isnan(change_on_x)].tolist()\n",
    "        "
   ]
  },
  {
   "cell_type": "code",
   "execution_count": null,
   "metadata": {},
   "outputs": [],
   "source": [
    "data = [np.array(ratio_x), np.array(ratio_y), np.array(ratio_z)]\n",
    "fig, ax = plt.subplots(1, 1, figsize=(5, 6))\n",
    "ax.boxplot(data, notch=True)\n",
    "ax.set_xticklabels([\"X-axis\", \"Y-axis\", \"Z-axis\"])\n",
    "# ax.set_xlabel(\"Correlation change on\", fontsize=20)\n",
    "ax.set_ylabel(\"Correlation change ratios\", fontsize=20)\n",
    "ax.tick_params(labelsize=16)\n",
    "fig.tight_layout()\n",
    "# fig.savefig(\"./Figure 5/corr_change_ratio.png\", dpi=300)"
   ]
  },
  {
   "cell_type": "code",
   "execution_count": null,
   "metadata": {},
   "outputs": [],
   "source": [
    "from scipy.stats import ttest_ind\n",
    "ttest_ind(np.array(ratio_y), np.array(ratio_z), equal_var=True)"
   ]
  },
  {
   "attachments": {},
   "cell_type": "markdown",
   "metadata": {},
   "source": [
    "### Neuron correlations in responses"
   ]
  },
  {
   "cell_type": "code",
   "execution_count": null,
   "metadata": {},
   "outputs": [],
   "source": [
    "preds = {}\n",
    "for data_key in data_keys:\n",
    "    array = grids25_keepNaN_gt[data_key][image_ids[0]]\n",
    "    \n",
    "    for image_id in image_ids[1:]:\n",
    "        array = np.concatenate([array, grids25_keepNaN_gt[data_key][image_id][:, 3:4]], axis=1)\n",
    "    \n",
    "    array[:, :3] = np.round(array[:, :3], 4)\n",
    "    preds[data_key] = array\n",
    "\n",
    "\n",
    "corr_matrix = {}\n",
    "for keys_pair in combinations(data_keys, 2):\n",
    "    test1 = preds[keys_pair[0]]\n",
    "    test1 = test1[~np.isnan(test1).any(axis=1)]\n",
    "    \n",
    "    coords = test1[:, :3]\n",
    "    distances = [get_distance(coord, coords[0]) for coord in coords]\n",
    "    test1 = pd.DataFrame(test1[np.argsort(distances)])\n",
    "\n",
    "    test2 = preds[keys_pair[1]]\n",
    "    test2 = test2[~np.isnan(test2).any(axis=1)]\n",
    "    \n",
    "    coords = test2[:, :3]\n",
    "    distances = [get_distance(coord, coords[0]) for coord in coords]\n",
    "    test2 = pd.DataFrame(test2[np.argsort(distances)])\n",
    "\n",
    "    test = pd.merge(test1, test2, how=\"inner\", on=[0, 1, 2]).iloc[:, 3:]\n",
    "    n = test.shape[0]\n",
    "    corr_matrix[keys_pair] = np.corrcoef(test.iloc[:, :100], test.iloc[:, 100:])[n:, :n]"
   ]
  },
  {
   "cell_type": "code",
   "execution_count": null,
   "metadata": {},
   "outputs": [],
   "source": [
    "f, ax = utils.plot_average_neuron_corr_distance(corr_matrix, figsize=(7, 5), remove=300,\n",
    "                                                xlabel=\"Neuron distances (in grids)\",\n",
    "                                                ylabel=\"Correlation between \\nneuron responses\",\n",
    "                                                title=\"Compare across brains\",\n",
    "                                                ylim=(-0.07, 0.2))\n",
    "\n",
    "f.tight_layout()\n",
    "f.savefig(\"./Figure 5/grid_corrs_summary_crossbrain_gt_avg.png\", dpi=300)"
   ]
  },
  {
   "cell_type": "code",
   "execution_count": null,
   "metadata": {},
   "outputs": [],
   "source": [
    "f, ax = utils.plot_neuron_corr_distance(corr_matrix, figsize=(10, 14), nrow=5, ncol=2, remove=300,\n",
    "                                        xlabel=\"Neuron distances (in grids)\", \n",
    "                                        ylabel=\"Correlation between neuron responses\",\n",
    "                                        ylim=(-0.05, 0.2))\n",
    "f.tight_layout()\n",
    "# f.savefig(\"./Figure 5/grid_corrs_summary_crossbrain_gt.png\", dpi=300)"
   ]
  },
  {
   "cell_type": "code",
   "execution_count": null,
   "metadata": {},
   "outputs": [],
   "source": [
    "fig, axs = plt.subplots(ncols=2, figsize=(6, 4))\n",
    "\n",
    "sns.heatmap(utils.get_corrs_alongZ_cross_brain(preds, data_keys, -0.48, 0.08), vmax=0.2, center=0, square=True,\n",
    "            cbar=False, ax=axs[0])\n",
    "axs[0].add_patch(patches.Rectangle((6, 13), 1, 1, lw=2, edgecolor='blue', fill=False))\n",
    "axs[0].set(xticklabels=[], yticklabels=[])\n",
    "axs[0].tick_params(bottom=False, left=False)\n",
    "axs[0].axis(\"off\")\n",
    "\n",
    "sns.heatmap(utils.get_corrs_alongZ_cross_brain(preds, data_keys, 0.8, 0.64), vmax=0.2, center=0, square=True,\n",
    "            cbar=False, ax=axs[1])\n",
    "axs[1].add_patch(patches.Rectangle((22, 20), 1, 1, lw=2, edgecolor='blue', fill=False))\n",
    "axs[1].set(xticklabels=[], yticklabels=[])\n",
    "axs[1].tick_params(bottom=False, left=False)\n",
    "axs[1].set_ylabel(None)\n",
    "axs[1].axis(\"off\")\n",
    "\n",
    "fig.tight_layout()\n",
    "fig.subplots_adjust(wspace=0.05, hspace=0)\n",
    "\n",
    "# fig.savefig(\"Figure 5/grid_corrs_XY_crossbrain_gt.png\", dpi=300, transparent=True)\n",
    "\n",
    "cbar_fig, cbar_ax = plt.subplots(1, 1, figsize=(0.1, 6))\n",
    "cbar_fig.colorbar(axs[1].collections[0], cax=cbar_ax)\n",
    "cbar_fig.tight_layout()\n",
    "# cbar_fig.savefig(\"Figure 5/colorbar_crossbrain_gt.png\", dpi=300)"
   ]
  },
  {
   "cell_type": "code",
   "execution_count": null,
   "metadata": {},
   "outputs": [],
   "source": [
    "fig, axs = plt.subplots(ncols=2, figsize=(6, 4))\n",
    "\n",
    "sns.heatmap(utils.get_corrs_alongX_cross_brain(preds, data_keys, -0.48, -0.0514), vmax=0.2, center=0, square=True,\n",
    "            cbar=False, ax=axs[0])\n",
    "axs[0].add_patch(patches.Rectangle((6, 1), 1, 1, lw=2, edgecolor='blue', fill=False))\n",
    "axs[0].axis(\"off\")\n",
    "\n",
    "sns.heatmap(utils.get_corrs_alongX_cross_brain(preds, data_keys, 0.8, 0.0506), vmax=0.2, center=0, square=True,\n",
    "            cbar=False, ax=axs[1])\n",
    "axs[1].add_patch(patches.Rectangle((22, 8), 1, 1, lw=2, edgecolor='blue', fill=False))\n",
    "axs[1].set(xticklabels=[], yticklabels=[])\n",
    "axs[1].axis(\"off\")\n",
    "\n",
    "fig.tight_layout()\n",
    "fig.subplots_adjust(wspace=0.05, hspace=0)\n",
    "# fig.savefig(\"Figure 5/grid_corrs_YZ_crossbrain_gt.png\", dpi=300, transparent=True)"
   ]
  },
  {
   "cell_type": "code",
   "execution_count": null,
   "metadata": {},
   "outputs": [],
   "source": [
    "fig, axs = plt.subplots(ncols=2, figsize=(6, 4))\n",
    "\n",
    "sns.heatmap(utils.get_corrs_alongY_cross_brain(preds, data_keys, -0.72, -0.0514), vmax=0.2, center=0, square=True,\n",
    "            cbar=False, ax=axs[0])\n",
    "axs[0].add_patch(patches.Rectangle((3, 1), 1, 1, lw=2, edgecolor='blue', fill=False))\n",
    "axs[0].axis(\"off\")\n",
    "\n",
    "sns.heatmap(utils.get_corrs_alongY_cross_brain(preds, data_keys, 0.32, 0.0506), vmax=0.2, center=0, square=True,\n",
    "            cbar=False, ax=axs[1])\n",
    "axs[1].add_patch(patches.Rectangle((16, 8), 1, 1, lw=2, edgecolor='blue', fill=False))\n",
    "axs[1].set(xticklabels=[], yticklabels=[])\n",
    "axs[1].axis(\"off\")\n",
    "\n",
    "fig.tight_layout()\n",
    "fig.subplots_adjust(wspace=0.05, hspace=0)\n",
    "# fig.savefig(\"Figure 5/grid_corrs_XZ_crossbrain_gt.png\", dpi=300, transparent=True)"
   ]
  },
  {
   "cell_type": "code",
   "execution_count": null,
   "metadata": {},
   "outputs": [],
   "source": [
    "corr_matrix = {}\n",
    "for data_key in data_keys:\n",
    "    test = preds[data_key]\n",
    "    test = test[~np.isnan(test).any(axis=1)]\n",
    "    \n",
    "    # sort distance\n",
    "    coords = test[:, :3]\n",
    "    distances = [get_distance(coord, coords[0]) for coord in coords]\n",
    "    test = test[np.argsort(distances), 3:]\n",
    "    \n",
    "    corr_matrix[data_key] = np.corrcoef(test)"
   ]
  },
  {
   "cell_type": "code",
   "execution_count": null,
   "metadata": {},
   "outputs": [],
   "source": [
    "f, ax = utils.plot_average_neuron_corr_distance(corr_matrix, figsize=(7, 5), remove=300,\n",
    "                                                xlabel=\"Neuron distances (in grids)\",\n",
    "                                                ylabel=\"Correlation between \\nneuron responses\",\n",
    "                                                title=\"Compare within brains\",\n",
    "                                                ylim=(-0.1, 0.4))\n",
    "\n",
    "f.tight_layout()\n",
    "# f.savefig(\"./Figure 5/grid_corrs_summary_gt_avg.png\", dpi=300)"
   ]
  },
  {
   "cell_type": "code",
   "execution_count": null,
   "metadata": {},
   "outputs": [],
   "source": [
    "f, ax = utils.plot_neuron_corr_distance(corr_matrix, figsize=(15, 6), nrow=2, ncol=3, remove=300,\n",
    "                                        xlabel=\"Neuron distances (in grids)\", \n",
    "                                        ylabel=\"Correlation between neuron responses\",\n",
    "                                        ylim=(-0.1, 0.4))\n",
    "\n",
    "ax[1][2].axis(\"off\")\n",
    "f.tight_layout()\n",
    "\n",
    "# f.savefig(\"Figure 5/grid_corrs_summary_gt.png\", dpi=300, transparent=True)"
   ]
  },
  {
   "cell_type": "code",
   "execution_count": null,
   "metadata": {},
   "outputs": [],
   "source": [
    "fig, axs = plt.subplots(ncols=2, figsize=(6, 4))\n",
    "\n",
    "sns.heatmap(utils.get_corrs_alongZ(preds, data_keys, -0.48, 0.08), vmax=0.5, center=0, square=True,\n",
    "            cbar=False, ax=axs[0])\n",
    "axs[0].add_patch(patches.Rectangle((6, 13), 1, 1, lw=2, edgecolor='blue', fill=False))\n",
    "axs[0].set(xticklabels=[], yticklabels=[])\n",
    "axs[0].tick_params(bottom=False, left=False)\n",
    "axs[0].axis(\"off\")\n",
    "\n",
    "sns.heatmap(utils.get_corrs_alongZ(preds, data_keys, 0.8, 0.64), vmax=0.5, center=0, square=True,\n",
    "            cbar=False, ax=axs[1])\n",
    "axs[1].add_patch(patches.Rectangle((22, 20), 1, 1, lw=2, edgecolor='blue', fill=False))\n",
    "axs[1].set(xticklabels=[], yticklabels=[])\n",
    "axs[1].tick_params(bottom=False, left=False)\n",
    "axs[1].set_ylabel(None)\n",
    "axs[1].axis(\"off\")\n",
    "\n",
    "fig.tight_layout()\n",
    "fig.subplots_adjust(wspace=0.05, hspace=0)\n",
    "\n",
    "# fig.savefig(\"Figure 5/grid_corrs_XY_gt.png\", dpi=300, transparent=True)\n",
    "\n",
    "cbar_fig, cbar_ax = plt.subplots(1, 1, figsize=(0.1, 6))\n",
    "cbar_fig.colorbar(axs[1].collections[0], cax=cbar_ax)\n",
    "cbar_fig.tight_layout()\n",
    "# cbar_fig.savefig(\"Figure 5/colorbar_gt.png\", dpi=300)"
   ]
  },
  {
   "cell_type": "code",
   "execution_count": null,
   "metadata": {},
   "outputs": [],
   "source": [
    "fig, axs = plt.subplots(ncols=2, figsize=(6, 4))\n",
    "\n",
    "sns.heatmap(utils.get_corrs_alongX(preds, data_keys, -0.48, -0.0514), vmax=0.5, center=0, square=True,\n",
    "            cbar=False, ax=axs[0])\n",
    "axs[0].add_patch(patches.Rectangle((6, 1), 1, 1, lw=2, edgecolor='blue', fill=False))\n",
    "axs[0].axis(\"off\")\n",
    "\n",
    "sns.heatmap(utils.get_corrs_alongX(preds, data_keys, 0.8, 0.0506), vmax=0.5, center=0, square=True,\n",
    "            cbar=False, ax=axs[1])\n",
    "axs[1].add_patch(patches.Rectangle((22, 8), 1, 1, lw=2, edgecolor='blue', fill=False))\n",
    "axs[1].set(xticklabels=[], yticklabels=[])\n",
    "axs[1].axis(\"off\")\n",
    "\n",
    "fig.tight_layout()\n",
    "fig.subplots_adjust(wspace=0.05, hspace=0)\n",
    "# fig.savefig(\"Figure 5/grid_corrs_YZ_gt.png\", dpi=300, transparent=True)"
   ]
  },
  {
   "cell_type": "code",
   "execution_count": null,
   "metadata": {},
   "outputs": [],
   "source": [
    "fig, axs = plt.subplots(ncols=2, figsize=(6, 4))\n",
    "\n",
    "sns.heatmap(utils.get_corrs_alongY(preds, data_keys, -0.72, -0.0514), vmax=0.5, center=0, square=True,\n",
    "            cbar=False, ax=axs[0])\n",
    "axs[0].add_patch(patches.Rectangle((3, 1), 1, 1, lw=2, edgecolor='blue', fill=False))\n",
    "axs[0].axis(\"off\")\n",
    "\n",
    "sns.heatmap(utils.get_corrs_alongY(preds, data_keys, 0.32, 0.0506), vmax=0.5, center=0, square=True,\n",
    "            cbar=False, ax=axs[1])\n",
    "axs[1].add_patch(patches.Rectangle((16, 8), 1, 1, lw=2, edgecolor='blue', fill=False))\n",
    "axs[1].set(xticklabels=[], yticklabels=[])\n",
    "axs[1].axis(\"off\")\n",
    "\n",
    "fig.tight_layout()\n",
    "fig.subplots_adjust(wspace=0.05, hspace=0)\n",
    "# fig.savefig(\"Figure 5/grid_corrs_XZ_gt.png\", dpi=300, transparent=True)"
   ]
  },
  {
   "cell_type": "code",
   "execution_count": null,
   "metadata": {},
   "outputs": [],
   "source": [
    "ratio_z_gt = []\n",
    "ratio_y_gt = []\n",
    "ratio_x_gt = []\n",
    "# np.random.seed(1000)\n",
    "\n",
    "for y in all_y:\n",
    "    for z in all_z:\n",
    "        df = utils.get_corrs_alongX(preds, data_keys, y, z)\n",
    "        change_on_z = (np.abs(df[y] - 1) / np.abs(df.index - z)).values\n",
    "        ratio_z_gt += change_on_z[~np.isnan(change_on_z)].tolist()\n",
    "        change_on_y = np.abs(df.loc[z] - 1) / np.abs(df.columns - y)\n",
    "        change_on_y = change_on_y[(change_on_y.index >= (y - 0.16)) & (change_on_y.index <= (y + 0.16))]\n",
    "        ratio_y_gt += change_on_y[~np.isnan(change_on_y)].tolist()\n",
    "        \n",
    "for x in all_x:\n",
    "    for z in all_z:\n",
    "        df = utils.get_corrs_alongY(preds, data_keys, x, z)\n",
    "        change_on_z = (np.abs(df[x] - 1) / np.abs(df.index - z)).values\n",
    "        ratio_z_gt += change_on_z[~np.isnan(change_on_z)].tolist()\n",
    "        change_on_x = np.abs(df.loc[z] - 1) / np.abs(df.columns - x)\n",
    "        change_on_x = change_on_x[(change_on_x.index >= (x - 0.16)) & (change_on_x.index <= (x + 0.16))]\n",
    "        ratio_x_gt += change_on_x[~np.isnan(change_on_x)].tolist()"
   ]
  },
  {
   "cell_type": "code",
   "execution_count": null,
   "metadata": {},
   "outputs": [],
   "source": [
    "data = [np.array(ratio_x_gt), np.array(ratio_y_gt), np.array(ratio_z_gt)]\n",
    "fig, ax = plt.subplots(1, 1, figsize=(5, 6))\n",
    "ax.boxplot(data, notch=True)\n",
    "ax.set_xticklabels([\"X-axis\", \"Y-axis\", \"Z-axis\"])\n",
    "# ax.set_xlabel(\"Correlation change on\", fontsize=20)\n",
    "ax.set_ylabel(\"Correlation change ratios\", fontsize=20)\n",
    "ax.tick_params(labelsize=16)\n",
    "fig.tight_layout()\n",
    "# fig.savefig(\"./Figure 5/corr_change_ratio_gt.png\", dpi=300)"
   ]
  },
  {
   "cell_type": "code",
   "execution_count": null,
   "metadata": {},
   "outputs": [],
   "source": [
    "from scipy.stats import ttest_ind\n",
    "ttest_ind(np.array(ratio_y_gt), np.array(ratio_z_gt), equal_var=False)"
   ]
  }
 ],
 "metadata": {
  "kernelspec": {
   "display_name": "pytorch",
   "language": "python",
   "name": "python3"
  },
  "language_info": {
   "codemirror_mode": {
    "name": "ipython",
    "version": 3
   },
   "file_extension": ".py",
   "mimetype": "text/x-python",
   "name": "python",
   "nbconvert_exporter": "python",
   "pygments_lexer": "ipython3",
   "version": "3.8.16"
  },
  "orig_nbformat": 4
 },
 "nbformat": 4,
 "nbformat_minor": 2
}
