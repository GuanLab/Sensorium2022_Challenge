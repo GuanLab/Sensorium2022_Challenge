{
 "cells": [
  {
   "cell_type": "markdown",
   "metadata": {},
   "source": [
    "## 0. Process the image data\n",
    "In this step we will:   \n",
    "- Generate the bounding box information to label the objects using the pretrained YOLO v5 model\n",
    "- Make 10 train-validation splits"
   ]
  },
  {
   "cell_type": "code",
   "execution_count": 2,
   "metadata": {},
   "outputs": [],
   "source": [
    "# unzip the dataset in the dataset folder and rename them\n",
    "! mv dataset/static21067-10-18-GrayImageNet-94c6ff995dac583098847cfecd43e7b6 dataset/pretrain_21067-10-18\n",
    "! mv dataset/static22846-10-16-GrayImageNet-94c6ff995dac583098847cfecd43e7b6 dataset/pretrain_22846-10-16\n",
    "! mv dataset/static23343-5-17-GrayImageNet-94c6ff995dac583098847cfecd43e7b6 dataset/pretrain_23343-5-17\n",
    "! mv dataset/static23656-14-22-GrayImageNet-94c6ff995dac583098847cfecd43e7b6 dataset/pretrain_23656-14-22\n",
    "! mv dataset/static23964-4-22-GrayImageNet-94c6ff995dac583098847cfecd43e7b6 dataset/pretrain_23964-4-22\n",
    "! mv dataset/static26872-17-20-GrayImageNet-94c6ff995dac583098847cfecd43e7b6 dataset/sensorium_26872-17-20\n",
    "! mv dataset/static27204-5-13-GrayImageNet-94c6ff995dac583098847cfecd43e7b6 dataset/sensorium+_27204-5-13"
   ]
  },
  {
   "cell_type": "code",
   "execution_count": 11,
   "metadata": {},
   "outputs": [
    {
     "name": "stdout",
     "output_type": "stream",
     "text": [
      "YOLOv5 🚀 v6.2-208-g8236d88 Python-3.8.12 torch-1.10.1 CUDA:0 (TITAN RTX, 24220MiB)\n",
      "\n",
      "Fusing layers... \n",
      "Model summary: 290 layers, 24889893 parameters, 0 gradients, 60.7 GFLOPs\n",
      "Adding AutoShape... \n",
      "YOLOv5 🚀 v6.2-208-g8236d88 Python-3.8.12 torch-1.10.1 CUDA:0 (TITAN RTX, 24220MiB)\n",
      "\n",
      "Fusing layers... \n",
      "YOLOv5l summary: 367 layers, 46533693 parameters, 0 gradients, 109.0 GFLOPs\n",
      "Adding AutoShape... \n"
     ]
    }
   ],
   "source": [
    "# Generate the bounding boxes for each image and save in the yolo format\n",
    "! CUDA_VISIBLE_DEVICES=5 python autolabel.py"
   ]
  },
  {
   "cell_type": "code",
   "execution_count": 4,
   "metadata": {},
   "outputs": [],
   "source": [
    "# Generate the train-validation splits\n",
    "! python split_train_validation.py"
   ]
  }
 ],
 "metadata": {
  "kernelspec": {
   "display_name": "Python 3.8.12 ('pytorch')",
   "language": "python",
   "name": "python3"
  },
  "language_info": {
   "codemirror_mode": {
    "name": "ipython",
    "version": 3
   },
   "file_extension": ".py",
   "mimetype": "text/x-python",
   "name": "python",
   "nbconvert_exporter": "python",
   "pygments_lexer": "ipython3",
   "version": "3.8.12"
  },
  "orig_nbformat": 4,
  "vscode": {
   "interpreter": {
    "hash": "bfee84e221173515dcc4292e621f15adf0cc7ab56cc192320f25767007d11a6e"
   }
  }
 },
 "nbformat": 4,
 "nbformat_minor": 2
}
