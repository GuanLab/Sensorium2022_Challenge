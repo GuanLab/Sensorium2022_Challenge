{
 "cells": [
  {
   "attachments": {},
   "cell_type": "markdown",
   "metadata": {},
   "source": [
    "## 1. Train the sensorium model\n",
    "- Train 10 models with different train-validation splits\n",
    "- (Optional) Evalute the performance in the pretrain dataset\n",
    "- Generate submission files"
   ]
  },
  {
   "cell_type": "code",
   "execution_count": null,
   "metadata": {},
   "outputs": [],
   "source": [
    "# Run the run.sh to train the 10 models\n",
    "# We run it in the terminal, not sure if jupyter notebook will have the same function as `screen`\n",
    "\n",
    "# ! bash run.sh"
   ]
  },
  {
   "cell_type": "code",
   "execution_count": null,
   "metadata": {},
   "outputs": [],
   "source": [
    "# Generate the submission files that include the predictions and responses\n",
    "! CUDA_VISIBLE_DEVICES=0 python submit.py"
   ]
  },
  {
   "cell_type": "code",
   "execution_count": null,
   "metadata": {},
   "outputs": [],
   "source": [
    "# Evaluate on the pretrain dataset\n",
    "! CUDA_VISIBLE_DEVICES=0 python predict.py"
   ]
  },
  {
   "cell_type": "code",
   "execution_count": null,
   "metadata": {},
   "outputs": [],
   "source": [
    "# Evaluate each neuron with N ensemble models\n",
    "! CUDA_VISIBLE_DEVICES=0 python predict_per_neuron.py 5  # for example: ensemble from 5 models"
   ]
  }
 ],
 "metadata": {
  "kernelspec": {
   "display_name": "Python 3.8.13 ('sensorium')",
   "language": "python",
   "name": "python3"
  },
  "language_info": {
   "name": "python",
   "version": "3.8.13"
  },
  "orig_nbformat": 4,
  "vscode": {
   "interpreter": {
    "hash": "b059f2bb1848b9f9b60754e0eb375d03eb6aa66c705aa609b7a981b75c858e0f"
   }
  }
 },
 "nbformat": 4,
 "nbformat_minor": 2
}
